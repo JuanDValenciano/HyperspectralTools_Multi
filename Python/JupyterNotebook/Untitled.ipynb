{
 "cells": [
  {
   "cell_type": "markdown",
   "id": "301be6a6-c098-4d8b-a760-90171f5e38a1",
   "metadata": {},
   "source": [
    "JuanD Valenciano.\n",
    "jvalenciano@unal.edu.co\n",
    "\n",
    "//TODO. documentar............................\n"
   ]
  },
  {
   "cell_type": "code",
   "execution_count": 25,
   "id": "0c6a6988-a68c-4fa9-8a19-6df0cb4fa5f2",
   "metadata": {},
   "outputs": [],
   "source": [
    "import os\n",
    "######\n",
    "import sys\n",
    "from sys import platform  #Detect platform!\n",
    "#sys.path.append('/content/drive/My Drive/Tesis/DatosAnalizar/ColabLib')    #Dir Lib!\n",
    "######\n",
    "\n",
    "#from numba import jit\n",
    "import time\n",
    "import torch \n",
    "import numpy as np\n",
    "import itertools\n",
    "\n",
    "import spectral.io.envi as envi\n",
    "from spectral import *\n",
    "import matplotlib\n",
    "import matplotlib.pyplot as plt\n",
    "import wx\n",
    "from wx import glcanvas\n",
    "import warnings\n",
    "import pandas as pd\n",
    "#from IPython.html.widgets import *\n",
    "from ipywidgets import *\n",
    "#from IPython.html.widgets import interact # IPython < 4.x\n",
    "#import envi2\n",
    "#from envi2.constants import *\n",
    "\n",
    "import math\n",
    "import pywt\n",
    "import pywt.data\n",
    "\n",
    "from sklearn.metrics import mean_squared_error as MSE\n",
    "from scipy.stats     import median_absolute_deviation as MAD\n",
    "from skimage.restoration import (denoise_wavelet, estimate_sigma)\n",
    "from skimage import data, img_as_float\n",
    "from skimage.util import random_noise\n",
    "from skimage import measure\n",
    "##Error extrano al intentar cargar la libreria?/????\n",
    "#from skimage.measure import compare_psnr\n",
    "from skimage.exposure import rescale_intensity\n",
    "\n",
    "import cv2\n",
    "\n",
    "\n",
    "'''\n",
    "import LogWrite\n",
    "from LogWrite.logWriter import *\n",
    "import cv2\n",
    "from google.colab import output\n",
    "import time\n",
    "from tqdm import tqdm\n",
    "'''\n",
    "\n",
    "'''\n",
    "import pysptools.util as util\n",
    "import pysptools.noise as ns\n",
    "import pysptools.skl as skl\n",
    "'''\n",
    "from numpy.linalg import matrix_power\n",
    "\n",
    "\n",
    "\n",
    "\n",
    "class UnsupportedPlatform(Exception):\n",
    "    pass"
   ]
  },
  {
   "cell_type": "code",
   "execution_count": null,
   "id": "5f0c8d7e-10a1-4c7a-8722-a262c9d845bd",
   "metadata": {},
   "outputs": [],
   "source": [
    "\n",
    "\n",
    "\n",
    "\n",
    "\n"
   ]
  }
 ],
 "metadata": {
  "kernelspec": {
   "display_name": "Python 3",
   "language": "python",
   "name": "python3"
  },
  "language_info": {
   "codemirror_mode": {
    "name": "ipython",
    "version": 3
   },
   "file_extension": ".py",
   "mimetype": "text/x-python",
   "name": "python",
   "nbconvert_exporter": "python",
   "pygments_lexer": "ipython3",
   "version": "3.7.10"
  }
 },
 "nbformat": 4,
 "nbformat_minor": 5
}
