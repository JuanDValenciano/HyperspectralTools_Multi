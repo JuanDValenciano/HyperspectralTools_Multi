{
  "nbformat": 4,
  "nbformat_minor": 0,
  "metadata": {
    "colab": {
      "name": "RadianceCorrection.ipynb",
      "provenance": [],
      "collapsed_sections": [],
      "authorship_tag": "ABX9TyOT6mHahfjpOxJ63NMqt5DN",
      "include_colab_link": true
    },
    "kernelspec": {
      "name": "python3",
      "display_name": "Python 3"
    }
  },
  "cells": [
    {
      "cell_type": "markdown",
      "metadata": {
        "id": "view-in-github",
        "colab_type": "text"
      },
      "source": [
        "<a href=\"https://colab.research.google.com/github/JuanDValenciano/HyperspectralTools_Multi/blob/master/Python/Colaboratory/RadianceCorrection.ipynb\" target=\"_parent\"><img src=\"https://colab.research.google.com/assets/colab-badge.svg\" alt=\"Open In Colab\"/></a>"
      ]
    },
    {
      "cell_type": "markdown",
      "metadata": {
        "id": "eZ-EozwGIQty",
        "colab_type": "text"
      },
      "source": [
        "## Correction Radiance\n",
        "\n",
        "by: JuanD Valenciano. UNAL-2020\n",
        "\n",
        "Ruta de archivo:\n",
        "Python/Colaboratory/RadianceCorrection.ipynb\n",
        "\n",
        "Configuración del entorno."
      ]
    },
    {
      "cell_type": "markdown",
      "metadata": {
        "id": "YRuh9lGpIiKE",
        "colab_type": "text"
      },
      "source": [
        ""
      ]
    },
    {
      "cell_type": "code",
      "metadata": {
        "id": "ActifLKMIhxE",
        "colab_type": "code",
        "colab": {}
      },
      "source": [
        ""
      ],
      "execution_count": 0,
      "outputs": []
    }
  ]
}